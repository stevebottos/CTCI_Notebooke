{
 "cells": [
  {
   "cell_type": "markdown",
   "metadata": {},
   "source": [
    "**PDF Link:**\n",
    "http://ahmed-badawy.com/blog/wp-content/uploads/2018/10/Cracking-the-Coding-Interview-6th-Edition-189-Programming-Questions-and-Solutions.pdf"
   ]
  },
  {
   "cell_type": "markdown",
   "metadata": {},
   "source": [
    "**Problem 1.1 Is Unique:** Implement an algorithm to determine if a string has all unique characters. What if you\n",
    "cannot use additional data structures? "
   ]
  },
  {
   "cell_type": "code",
   "execution_count": 36,
   "metadata": {},
   "outputs": [
    {
     "name": "stderr",
     "output_type": "stream",
     "text": [
      "."
     ]
    },
    {
     "name": "stdout",
     "output_type": "stream",
     "text": [
      "Testing [ abcd ]\n",
      "Testing [ s4fad ]\n",
      "Testing [  ]\n",
      "Testing [ 23ds2 ]\n",
      "Testing [ hb 627jh=j () ]\n",
      "All tests passed\n"
     ]
    },
    {
     "name": "stderr",
     "output_type": "stream",
     "text": [
      "\n",
      "----------------------------------------------------------------------\n",
      "Ran 1 test in 0.001s\n",
      "\n",
      "OK\n"
     ]
    }
   ],
   "source": [
    "import unittest\n",
    "def isUnique(s : str) -> bool:\n",
    "    \n",
    "    # Really easy. Set is O(N) and len is O(1)\n",
    "    s_set = set(s)\n",
    "    if len(s_set) != len(s):\n",
    "        return False\n",
    "        \n",
    "    return True\n",
    "    \n",
    "# TESTS\n",
    "class Test(unittest.TestCase):\n",
    "    dataT = [('abcd'), ('s4fad'), ('')]\n",
    "    dataF = [('23ds2'), ('hb 627jh=j ()')]\n",
    "\n",
    "    def test_unique(self):\n",
    "        # true check\n",
    "        for test_string in self.dataT:\n",
    "            actual = isUnique(test_string)\n",
    "            print(\"Testing [\", test_string, \"]\")\n",
    "            self.assertTrue(actual)\n",
    "        # false check\n",
    "        for test_string in self.dataF:\n",
    "            actual = isUnique(test_string)\n",
    "            print(\"Testing [\", test_string, \"]\")\n",
    "            self.assertFalse(actual)\n",
    "\n",
    "\n",
    "# Modified to run with jupyterlab\n",
    "unittest.main(argv=['first-arg-is-ignored'], exit=False)\n",
    "print(\"All tests passed\")"
   ]
  },
  {
   "cell_type": "markdown",
   "metadata": {},
   "source": [
    "**Problem 1.2 Check Permutation:** Given two strings, write a method to decide if one is a permutation of the other"
   ]
  },
  {
   "cell_type": "code",
   "execution_count": null,
   "metadata": {},
   "outputs": [],
   "source": [
    "import unittest\n",
    "def isUnique(s : str) -> bool:\n",
    "    \n",
    "    # Really easy. Set is O(N) and len is O(1)\n",
    "    s_set = set(s)\n",
    "    if len(s_set) != len(s):\n",
    "        return False\n",
    "        \n",
    "    return True\n",
    "    \n",
    "# TESTS\n",
    "class Test(unittest.TestCase):\n",
    "    dataT = (\n",
    "        ('abcd', 'bacd'),\n",
    "        ('3563476', '7334566'),\n",
    "        ('wef34f', 'wffe34'),\n",
    "    )\n",
    "    dataF = (\n",
    "        ('abcd', 'd2cba'),\n",
    "        ('2354', '1234'),\n",
    "        ('dcw4f', 'dcw5f'),\n",
    "    )\n",
    "\n",
    "    def test_unique(self):\n",
    "        # true check\n",
    "        for test_string in self.dataT:\n",
    "            actual = isUnique(test_string)\n",
    "            print(\"Testing [\", test_string, \"]\")\n",
    "            self.assertTrue(actual)\n",
    "        # false check\n",
    "        for test_string in self.dataF:\n",
    "            actual = isUnique(test_string)\n",
    "            print(\"Testing [\", test_string, \"]\")\n",
    "            self.assertFalse(actual)\n",
    "\n",
    "\n",
    "# Modified to run with jupyterlab\n",
    "unittest.main(argv=['first-arg-is-ignored'], exit=False)\n",
    "print(\"All tests passed\")"
   ]
  },
  {
   "cell_type": "code",
   "execution_count": null,
   "metadata": {},
   "outputs": [],
   "source": []
  }
 ],
 "metadata": {
  "kernelspec": {
   "display_name": "Python 3",
   "language": "python",
   "name": "python3"
  },
  "language_info": {
   "codemirror_mode": {
    "name": "ipython",
    "version": 3
   },
   "file_extension": ".py",
   "mimetype": "text/x-python",
   "name": "python",
   "nbconvert_exporter": "python",
   "pygments_lexer": "ipython3",
   "version": "3.7.7"
  }
 },
 "nbformat": 4,
 "nbformat_minor": 4
}
